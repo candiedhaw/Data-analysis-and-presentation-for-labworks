{
 "cells": [
  {
   "cell_type": "code",
   "execution_count": 108,
   "id": "baa06971",
   "metadata": {},
   "outputs": [],
   "source": [
    "# Importing Image class from PIL module\n",
    "from PIL import Image, ImageFont, ImageDraw "
   ]
  },
  {
   "cell_type": "code",
   "execution_count": 117,
   "id": "fcfc1750",
   "metadata": {
    "scrolled": true
   },
   "outputs": [
    {
     "name": "stdout",
     "output_type": "stream",
     "text": [
      "[1, 2, 3, 4, 5, 6, 7, 8, 9, 10, 11, 12, 13, 14, 15, 16, 17, 18, 19, 20, 21, 22, 23, 24, 25, 26, 27, 28, 29, 30, 31, 32, 33, 34, 35, 36, 37, 38, 39, 40, 41, 42, 43, 44, 45, 46, 47, 48, 49, 50, 51, 52, 53, 54, 55, 56, 57, 58, 59, 60, 61, 62, 63, 64, 65, 66, 67, 68, 69, 70, 71, 72, 73, 74, 75, 76, 77, 78, 79, 80, 81, 82, 83, 84, 85, 86, 87, 88, 89, 90, 91, 92, 93, 94, 95, 96]\n"
     ]
    }
   ],
   "source": [
    "#the col size for the experiment, for converting measurement ID to position like A1. Here used for labels the position on image\n",
    "col=16\n",
    "idx_range = [i for i in range(1,97)]\n",
    "print(idx_range)"
   ]
  },
  {
   "cell_type": "code",
   "execution_count": 116,
   "id": "4598e208",
   "metadata": {},
   "outputs": [],
   "source": [
    "# the function to cross, label, save as new files\n",
    "def cross_labels(idx):\n",
    "    # Opens a image in RGB mode\n",
    "    im = Image.open(\"Cameraview/0800 011422_Meas \"+str(idx)+\".JPG\")\n",
    "    #get the size\n",
    "    width, height = im.size\n",
    "    #crops position\n",
    "    left = width /4+50\n",
    "    top = height / 8-50\n",
    "    right = width /4 *3-50\n",
    "    bottom = 3 * height / 4-40\n",
    "    #crops\n",
    "    im1 = im.crop((left, top, right, bottom))\n",
    "    #get the new size\n",
    "    width, height = im1.size \n",
    "    \n",
    "    #Relabel\n",
    "    \n",
    "    #measurement idx to position id\n",
    "    r = (idx-1)%col+1\n",
    "    q = (idx-1)//col\n",
    "    #to A\n",
    "    q = chr(ord('a') + q).upper() \n",
    "    id = q+str(r)\n",
    "    id\n",
    "    \n",
    "    #label\n",
    "    I1 = ImageDraw.Draw(im1)\n",
    "    title_text = id\n",
    "    myFont = ImageFont.truetype('cmb10.ttf', 70)\n",
    "    I1.text(((width /2-35),20), title_text, font=myFont, fill =(255))\n",
    "    im1 = im1.save(\"cropped_cameraview/0800 011422_Meas \"+str(idx)+\".JPG\")\n",
    "    "
   ]
  },
  {
   "cell_type": "code",
   "execution_count": 119,
   "id": "c2cffffc",
   "metadata": {},
   "outputs": [],
   "source": [
    "for i in idx_range:\n",
    "    cross_labels(i)\n",
    "    \n",
    "print('Job Finished!')"
   ]
  },
  {
   "cell_type": "code",
   "execution_count": null,
   "id": "f0cad278",
   "metadata": {},
   "outputs": [],
   "source": []
  }
 ],
 "metadata": {
  "kernelspec": {
   "display_name": "Python 3",
   "language": "python",
   "name": "python3"
  },
  "language_info": {
   "codemirror_mode": {
    "name": "ipython",
    "version": 3
   },
   "file_extension": ".py",
   "mimetype": "text/x-python",
   "name": "python",
   "nbconvert_exporter": "python",
   "pygments_lexer": "ipython3",
   "version": "3.8.8"
  }
 },
 "nbformat": 4,
 "nbformat_minor": 5
}
