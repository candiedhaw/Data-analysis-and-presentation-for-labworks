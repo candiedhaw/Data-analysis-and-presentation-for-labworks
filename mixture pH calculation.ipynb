{
 "cells": [
  {
   "cell_type": "code",
   "execution_count": 16,
   "id": "35f1f33c",
   "metadata": {},
   "outputs": [
    {
     "data": {
      "text/plain": [
       "4.000961170081108"
      ]
     },
     "execution_count": 16,
     "metadata": {},
     "output_type": "execute_result"
    }
   ],
   "source": [
    "import numpy as np\n",
    "\n",
    "#calculate mixture pH\n",
    "pH1 = 3.7\n",
    "pH2 = 7.5\n",
    "\n",
    "volumn_pH1 = 1\n",
    "volumn_pH2 = 1\n",
    "\n",
    "mixture_pH = -np.log10((10**(-pH1)*volumn_pH1+10**(-pH2)*volumn_pH2)/(volumn_pH1 + volumn_pH2))\n",
    "mixture_pH "
   ]
  },
  {
   "cell_type": "code",
   "execution_count": 32,
   "id": "675a4391",
   "metadata": {},
   "outputs": [
    {
     "name": "stdout",
     "output_type": "stream",
     "text": [
      "1.0000000000000009\n",
      "0.9999999999999991\n"
     ]
    }
   ],
   "source": [
    "#calculate volumn_pH1,2\n",
    "\n",
    "pH1 = 3.7\n",
    "pH2 = 7.5\n",
    "mixpH = 4.000961170081108\n",
    "\n",
    "tot_volumn = 2\n",
    "volumn_pH2\n",
    "\n",
    "volumn_pH1 = (10**(-mixpH)-10**(-pH2))*tot_volumn/(10**(-pH1)-10**(-pH2))\n",
    "volumn_pH2 = tot_volumn - volumn_pH1\n",
    "\n",
    "print(volumn_pH1 )\n",
    "print(volumn_pH2 )"
   ]
  },
  {
   "cell_type": "code",
   "execution_count": null,
   "id": "6ebe2989",
   "metadata": {},
   "outputs": [],
   "source": []
  }
 ],
 "metadata": {
  "kernelspec": {
   "display_name": "Python 3 (ipykernel)",
   "language": "python",
   "name": "python3"
  },
  "language_info": {
   "codemirror_mode": {
    "name": "ipython",
    "version": 3
   },
   "file_extension": ".py",
   "mimetype": "text/x-python",
   "name": "python",
   "nbconvert_exporter": "python",
   "pygments_lexer": "ipython3",
   "version": "3.7.3"
  }
 },
 "nbformat": 4,
 "nbformat_minor": 5
}
