{
 "cells": [
  {
   "cell_type": "code",
   "execution_count": 15,
   "id": "2aea5291",
   "metadata": {},
   "outputs": [
    {
     "data": {
      "text/plain": [
       "4.000961170081108"
      ]
     },
     "execution_count": 15,
     "metadata": {},
     "output_type": "execute_result"
    }
   ],
   "source": [
    "import numpy as np\n",
    "\n",
    "pH1 = 3.7\n",
    "pH2 = 7.5\n",
    "\n",
    "volum_pH1 = 1\n",
    "volum_pH2 = 1\n",
    "\n",
    "mixture_pH = -np.log10((10**(-pH1)*volum_pH1+10**(-pH2)*volum_pH2)/(volum_pH1 + volum_pH2))\n",
    "mixture_pH "
   ]
  },
  {
   "cell_type": "code",
   "execution_count": null,
   "id": "ebee96d8",
   "metadata": {},
   "outputs": [],
   "source": []
  }
 ],
 "metadata": {
  "kernelspec": {
   "display_name": "Python 3 (ipykernel)",
   "language": "python",
   "name": "python3"
  },
  "language_info": {
   "codemirror_mode": {
    "name": "ipython",
    "version": 3
   },
   "file_extension": ".py",
   "mimetype": "text/x-python",
   "name": "python",
   "nbconvert_exporter": "python",
   "pygments_lexer": "ipython3",
   "version": "3.7.3"
  }
 },
 "nbformat": 4,
 "nbformat_minor": 5
}
